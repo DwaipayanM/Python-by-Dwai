{
 "cells": [
  {
   "cell_type": "markdown",
   "id": "b0009883",
   "metadata": {},
   "source": [
    "PYTHON PROGRAMMING"
   ]
  },
  {
   "cell_type": "markdown",
   "id": "a7506d27",
   "metadata": {},
   "source": [
    "1.#Program to print “hello world”"
   ]
  },
  {
   "cell_type": "code",
   "id": "94c24bf9",
   "metadata": {},
   "source": [
    "print(\"hello world\") "
   ],
   "outputs": [],
   "execution_count": null
  },
  {
   "cell_type": "markdown",
   "id": "1c2c3367",
   "metadata": {},
   "source": [
    "2.#Program to print ASCII code for \"A\" "
   ]
  },
  {
   "cell_type": "code",
   "id": "e6604313",
   "metadata": {},
   "source": [
    "print(ord(\"A\")) "
   ],
   "outputs": [],
   "execution_count": null
  },
  {
   "cell_type": "markdown",
   "id": "818e61fb",
   "metadata": {},
   "source": [
    "3.#Program to print character for the ascii value 97"
   ]
  },
  {
   "cell_type": "code",
   "id": "82b83e10",
   "metadata": {},
   "source": [
    "print(chr(97)) "
   ],
   "outputs": [],
   "execution_count": null
  },
  {
   "cell_type": "markdown",
   "id": "580bac37",
   "metadata": {},
   "source": [
    "4.#Program to print Current date time in local system"
   ]
  },
  {
   "cell_type": "code",
   "id": "dadb5f8a",
   "metadata": {},
   "source": [
    "from datetime import datetime"
   ],
   "outputs": [],
   "execution_count": null
  },
  {
   "cell_type": "code",
   "id": "75a0657c",
   "metadata": {},
   "source": [
    "# Get the current date and time\n",
    "current_datetime = datetime.now()"
   ],
   "outputs": [],
   "execution_count": null
  },
  {
   "cell_type": "code",
   "id": "60db4529",
   "metadata": {
    "lines_to_next_cell": 2
   },
   "source": [
    "# Display the current date and time\n",
    "print(\"Current date and time:\", current_datetime)"
   ],
   "outputs": [],
   "execution_count": null
  },
  {
   "cell_type": "markdown",
   "id": "50febe19",
   "metadata": {},
   "source": [
    "5.#Program to print upper case of \"Python programing by Majid Mallik\""
   ]
  },
  {
   "cell_type": "code",
   "id": "d973817a",
   "metadata": {},
   "source": [
    "print(\"Python programming by Majid Mallik\".upper()) "
   ],
   "outputs": [],
   "execution_count": null
  },
  {
   "cell_type": "markdown",
   "id": "407547c0",
   "metadata": {},
   "source": [
    "6.#Program to print type of 12,5.7 and 'Lecture Series on Python'"
   ]
  },
  {
   "cell_type": "code",
   "id": "771b4fa1",
   "metadata": {},
   "source": [
    "print(type(12)) \n",
    "print(type(5.7)) \n",
    "print(type('Lecture Series on Python')) "
   ],
   "outputs": [],
   "execution_count": null
  },
  {
   "cell_type": "markdown",
   "id": "71094038",
   "metadata": {},
   "source": [
    "7.#Program to print length of \"hello world\" string"
   ]
  },
  {
   "cell_type": "code",
   "id": "c058756a",
   "metadata": {},
   "source": [
    "print(len(\"hello world\")) "
   ],
   "outputs": [],
   "execution_count": null
  },
  {
   "cell_type": "markdown",
   "id": "4a3d36e1",
   "metadata": {},
   "source": [
    "8.#Program to print \"-\" 100 times (without loop)"
   ]
  },
  {
   "cell_type": "code",
   "id": "b2c7fd25",
   "metadata": {},
   "source": [
    "print(\"-\" * 100) "
   ],
   "outputs": [],
   "execution_count": null
  },
  {
   "cell_type": "markdown",
   "id": "29039c45",
   "metadata": {},
   "source": [
    "9.#Program to print 2 to the power 5"
   ]
  },
  {
   "cell_type": "code",
   "id": "3fce3793",
   "metadata": {},
   "source": [
    "print(2 ** 5) "
   ],
   "outputs": [],
   "execution_count": null
  },
  {
   "cell_type": "markdown",
   "id": "dbc28857",
   "metadata": {},
   "source": [
    "10.#Program to print memory location of any variable"
   ]
  },
  {
   "cell_type": "code",
   "id": "3d885200",
   "metadata": {},
   "source": [
    "x = 42 \n",
    "print(id(x)) "
   ],
   "outputs": [],
   "execution_count": null
  },
  {
   "cell_type": "markdown",
   "id": "f529e3ba",
   "metadata": {},
   "source": [
    "11.#Program to take user-name as input, and print \"hello {inputted-user-name}\""
   ]
  },
  {
   "cell_type": "code",
   "id": "4e304455",
   "metadata": {},
   "source": [
    "name = input(\"Enter your name: \") \n",
    "print(f\"hello {name}\") "
   ],
   "outputs": [],
   "execution_count": null
  },
  {
   "cell_type": "markdown",
   "id": "50860b53",
   "metadata": {},
   "source": [
    "12.#Program to print ASCII code for inputted character"
   ]
  },
  {
   "cell_type": "code",
   "id": "bfc75478",
   "metadata": {},
   "source": [
    "char = input(\"Enter a character: \") \n",
    "print(ord(char)) "
   ],
   "outputs": [],
   "execution_count": null
  },
  {
   "cell_type": "markdown",
   "id": "c72aef7c",
   "metadata": {},
   "source": [
    "13.#Program to print character for any inputted ascii value "
   ]
  },
  {
   "cell_type": "code",
   "id": "ce770a9e",
   "metadata": {},
   "source": [
    "ascii_value = int(input(\"Enter an ASCII value: \")) \n",
    "print(chr(ascii_value)) "
   ],
   "outputs": [],
   "execution_count": null
  },
  {
   "cell_type": "markdown",
   "id": "f3d164a3",
   "metadata": {},
   "source": [
    "14.#Program to print reverse of the inputted string"
   ]
  },
  {
   "cell_type": "code",
   "id": "0d89162d",
   "metadata": {},
   "source": [
    "string = input(\"Enter a string: \") \n",
    "print(string[::-1]) "
   ],
   "outputs": [],
   "execution_count": null
  },
  {
   "cell_type": "markdown",
   "id": "4579e662",
   "metadata": {},
   "source": [
    "15.#Program to print lower and upper case of inputted string"
   ]
  },
  {
   "cell_type": "code",
   "id": "c6d87c5d",
   "metadata": {},
   "source": [
    "string = input(\"Enter a string: \") \n",
    "print(string.lower()) \n",
    "print(string.upper())"
   ],
   "outputs": [],
   "execution_count": null
  },
  {
   "cell_type": "markdown",
   "id": "408a2aa9",
   "metadata": {},
   "source": [
    "16.#Program to take comma separated city names and print them in sorted order"
   ]
  },
  {
   "cell_type": "code",
   "id": "9848a4a0",
   "metadata": {},
   "source": [
    "cities = input(\"Enter comma-separated city names: \") \n",
    "print(sorted(cities.split(','))) "
   ],
   "outputs": [],
   "execution_count": null
  },
  {
   "cell_type": "markdown",
   "id": "ff53d37e",
   "metadata": {},
   "source": [
    "17.#Program to take comma separated city names and print only unique city names and in sorted order."
   ]
  },
  {
   "cell_type": "code",
   "id": "9ddd9617",
   "metadata": {},
   "source": [
    "cities = input(\"Enter comma-separated city names: \") \n",
    "print(sorted(set(cities.split(',')))) "
   ],
   "outputs": [],
   "execution_count": null
  },
  {
   "cell_type": "markdown",
   "id": "684743c1",
   "metadata": {},
   "source": [
    "18.#Program to take 3 integers as input , print their max,min and mean"
   ]
  },
  {
   "cell_type": "code",
   "id": "cdf8242b",
   "metadata": {},
   "source": [
    "nums = list(map(int, input(\"Enter three integers separated by space: \").split())) \n",
    "print(f\"Max: {max(nums)}, Min: {min(nums)}, Mean: {sum(nums) / len(nums)}\") "
   ],
   "outputs": [],
   "execution_count": null
  },
  {
   "cell_type": "markdown",
   "id": "d15895a9",
   "metadata": {},
   "source": [
    "19.#Program to print x to power n where x and n should be taken from user"
   ]
  },
  {
   "cell_type": "code",
   "id": "ef3c4f48",
   "metadata": {},
   "source": [
    "x, n = map(int, input(\"Enter base and exponent separated by space: \").split()) \n",
    "print(x ** n) "
   ],
   "outputs": [],
   "execution_count": null
  },
  {
   "cell_type": "markdown",
   "id": "630448c0",
   "metadata": {},
   "source": [
    "20.#Program to take a floating point number n as input, print n round to 2 places"
   ]
  },
  {
   "cell_type": "code",
   "id": "27c90b12",
   "metadata": {},
   "source": [
    "n = float(input(\"Enter a floating-point number: \")) \n",
    "print(round(n, 2)) "
   ],
   "outputs": [],
   "execution_count": null
  },
  {
   "cell_type": "markdown",
   "id": "2c825bdd",
   "metadata": {},
   "source": [
    "21. #Program to take perpendicular and base of a triangle from user and print it’s hypotenuse. "
   ]
  },
  {
   "cell_type": "code",
   "id": "91f14481",
   "metadata": {},
   "source": [
    "import math \n",
    "perpendicular = float(input(\"Enter the perpendicular: \")) \n",
    "base = float(input(\"Enter the base: \")) \n",
    "print(math.sqrt(perpendicular**2 + base**2)) "
   ],
   "outputs": [],
   "execution_count": null
  },
  {
   "cell_type": "markdown",
   "id": "6c2f2f10",
   "metadata": {},
   "source": [
    "22. #Program to take radius of a circle from user and print it’s area and perimeter"
   ]
  },
  {
   "cell_type": "code",
   "id": "37d63f58",
   "metadata": {},
   "source": [
    "import math \n",
    "radius = float(input(\"Enter the radius: \")) \n",
    "area = math.pi * radius**2 \n",
    "perimeter = 2 * math.pi * radius \n",
    "print(f\"Area: {area}, Perimeter: {perimeter}\")"
   ],
   "outputs": [],
   "execution_count": null
  },
  {
   "cell_type": "code",
   "id": "5eac67eb",
   "metadata": {},
   "source": [
    "#23. #Program to find the Volume and surface area of a cuboid . sa= 2(lb+bh+hl)\n",
    "length, breadth, height = map(float, input(\"Enter length, breadth, and height separated by space: \").split()) \n",
    "surface_area = 2 * (length * breadth + breadth * height + height * length) \n",
    "volume = length * breadth * height \n",
    "print(f\"Surface Area: {surface_area}, Volume: {volume}\") "
   ],
   "outputs": [],
   "execution_count": null
  },
  {
   "cell_type": "markdown",
   "id": "6063088d",
   "metadata": {},
   "source": [
    "24. #Program to take temperature in Fahrenheit from user and print it in Celsius. c = (f-32)*5/9 "
   ]
  },
  {
   "cell_type": "code",
   "id": "4d521677",
   "metadata": {},
   "source": [
    "fahrenheit = float(input(\"Enter temperature in Fahrenheit: \")) \n",
    "celsius = (fahrenheit - 32) * 5 / 9 \n",
    "print(f\"Temperature in Celsius: {celsius}\") "
   ],
   "outputs": [],
   "execution_count": null
  },
  {
   "cell_type": "markdown",
   "id": "7cdeefad",
   "metadata": {},
   "source": [
    "25. #Program to calculate Simple Interest and Compound Interest. si = (p*r*t)/100 ; CI= p*(1+r/100)^t"
   ]
  },
  {
   "cell_type": "code",
   "id": "255195d9",
   "metadata": {
    "lines_to_next_cell": 2
   },
   "source": [
    "principal = float(input(\"Enter principal amount: \")) \n",
    "rate = float(input(\"Enter rate of interest: \")) \n",
    "time = float(input(\"Enter time (in years): \"))\n",
    "simple_interest = (principal * rate * time) / 100 \n",
    "compound_interest = principal * (1 + rate / 100) ** time \n",
    "print(f\"Simple Interest: {simple_interest}, Compound Interest: {compound_interest}\") "
   ],
   "outputs": [],
   "execution_count": null
  },
  {
   "cell_type": "markdown",
   "id": "2ac7b638",
   "metadata": {
    "lines_to_next_cell": 2
   },
   "source": [
    "Assignment - 2 - Python Programming Lab"
   ]
  },
  {
   "cell_type": "markdown",
   "id": "9fe6d966",
   "metadata": {},
   "source": [
    "26. #Program to take a string, and if it starts with “a” or “A”, print it as a “valid input”"
   ]
  },
  {
   "cell_type": "code",
   "id": "e7a94369",
   "metadata": {},
   "source": [
    "string = input(\"Enter a string: \") \n",
    "if string.lower().startswith('a'): \n",
    "    print(\"Valid input\") "
   ],
   "outputs": [],
   "execution_count": null
  },
  {
   "cell_type": "code",
   "id": "99e68972",
   "metadata": {},
   "source": [
    "#27. #Program to take a string, and if it starts with a vowel, print it as a “valid input”\n",
    "string = input(\"Enter a string: \") \n",
    "if string[0].lower() in 'aeiou': \n",
    "    print(\"Valid input\") "
   ],
   "outputs": [],
   "execution_count": null
  },
  {
   "cell_type": "code",
   "id": "3c6c5b49",
   "metadata": {},
   "source": [
    "#28. #Program to take a string, and if it starts and ends with the same character, print it as a “valid input”\n",
    "string = input(\"Enter a string: \") \n",
    "if string[0].lower() == string[-1].lower(): \n",
    "    print(\"Valid input\") "
   ],
   "outputs": [],
   "execution_count": null
  },
  {
   "cell_type": "code",
   "id": "3323256b",
   "metadata": {},
   "source": [
    "#29. #Program to take length and breadth from the user and print whether it is rectangle or a square\n",
    "length = float(input(\"Enter length: \")) \n",
    "breadth = float(input(\"Enter breadth: \")) \n",
    "if length == breadth: \n",
    "    print(\"Square\") \n",
    "else: \n",
    "    print(\"Rectangle\") "
   ],
   "outputs": [],
   "execution_count": null
  },
  {
   "cell_type": "code",
   "id": "7f0b579e",
   "metadata": {},
   "source": [
    "#30. #Program to find whether a number is even or odd\n",
    "num = int(input(\"Enter a number: \")) \n",
    "if num % 2 == 0: \n",
    "    print(\"Even\") \n",
    "else: \n",
    "    print(\"Odd\") "
   ],
   "outputs": [],
   "execution_count": null
  },
  {
   "cell_type": "code",
   "id": "716c6089",
   "metadata": {},
   "source": [
    "#31. #Program to find whether a number is multiple of 13 or not\n",
    "num = int(input(\"Enter a number: \")) \n",
    "if num % 13 == 0: \n",
    "    print(\"Multiple of 13\") \n",
    "else: \n",
    "    print(\"Not a multiple of 13\") "
   ],
   "outputs": [],
   "execution_count": null
  },
  {
   "cell_type": "code",
   "id": "d9b5ee7d",
   "metadata": {},
   "source": [
    "#32. #Program to take 3 angles from the user and print whether they are valid to make a triangle or not\n",
    "angles = list(map(int, input(\"Enter three angles separated by space: \").split())) \n",
    "if sum(angles) == 180: \n",
    "    print(\"Valid triangle\") \n",
    "else: \n",
    "    print(\"Invalid triangle\") "
   ],
   "outputs": [],
   "execution_count": null
  },
  {
   "cell_type": "code",
   "id": "c7144fdb",
   "metadata": {},
   "source": [
    "#33. #Program to check if the inputted number is positive, negative or zero\n",
    "num = float(input(\"Enter a number: \")) \n",
    "if num > 0: \n",
    "    print(\"Positive\")\n",
    "elif num < 0: \n",
    "    print(\"Negative\") \n",
    "else: \n",
    "    print(\"Zero\") "
   ],
   "outputs": [],
   "execution_count": null
  },
  {
   "cell_type": "markdown",
   "id": "ad3c1cac",
   "metadata": {},
   "source": [
    "34. #Program to assign grade on the basis of marks , grade A if marks >=80, grade B if marks >=60 and <80 , grade C if marks >=50 and <60, otherwise grade F"
   ]
  },
  {
   "cell_type": "code",
   "id": "fcfa9c08",
   "metadata": {},
   "source": [
    "marks = int(input(\"Enter marks: \")) \n",
    "if marks >= 80: \n",
    "    print(\"Grade A\") \n",
    "elif marks >= 60: \n",
    "    print(\"Grade B\") \n",
    "elif marks >= 50: \n",
    "    print(\"Grade C\") \n",
    "else: \n",
    "    print(\"Grade F\") "
   ],
   "outputs": [],
   "execution_count": null
  },
  {
   "cell_type": "markdown",
   "id": "554287df",
   "metadata": {},
   "source": [
    "35. '''Program to apply tax 1,12,500+30% for annual salary exceeding 10 Lakh 12,500+20% for annual salary exceeding 5 Lakh 5% for annual salary exceeding 2.5 Lakh Nil if annual salary under 2.5 Lakh'''"
   ]
  },
  {
   "cell_type": "code",
   "id": "4e94b60b",
   "metadata": {},
   "source": [
    "salary = float(input(\"Enter annual salary: \")) \n",
    "if salary > 10_00_000: \n",
    "    tax = 1_12_500 + 0.30 * (salary - 10_00_000) \n",
    "elif salary > 5_00_000: \n",
    "    tax = 12_500 + 0.20 * (salary - 5_00_000)\n",
    "elif salary > 2_50_000: \n",
    "    tax = 0.05 * (salary - 2_50_000) \n",
    "else: \n",
    "    tax = 0 \n",
    "print(f\"Tax: {tax}\") "
   ],
   "outputs": [],
   "execution_count": null
  },
  {
   "cell_type": "code",
   "id": "de93b3d0",
   "metadata": {},
   "source": [],
   "outputs": [],
   "execution_count": null
  },
  {
   "cell_type": "markdown",
   "id": "6536d26c",
   "metadata": {},
   "source": [
    "36. #Program to take a name as input from the user and print whether inputted name is a file or a directory or not."
   ]
  },
  {
   "cell_type": "code",
   "id": "d539c63b",
   "metadata": {},
   "source": [
    "import os \n",
    "name = input(\"Enter a name: \") \n",
    "if os.path.isfile(name): \n",
    "    print(\"It is a file\") \n",
    "elif os.path.isdir(name): \n",
    "    print(\"It is a directory\") \n",
    "else: \n",
    "    print(\"Neither a file nor a directory\") "
   ],
   "outputs": [],
   "execution_count": null
  },
  {
   "cell_type": "markdown",
   "id": "1980c52e",
   "metadata": {},
   "source": [
    "37. #Program to input three angles and say whether they make obtuse, isosceles, equilateral triangle or they didn't form a triangle."
   ]
  },
  {
   "cell_type": "code",
   "id": "dc9bf72c",
   "metadata": {},
   "source": [
    "angles = list(map(int, input(\"Enter three angles separated by space: \").split())) \n",
    "if sum(angles) == 180: \n",
    "    if 90 in angles: \n",
    "        print(\"Right triangle\")\n",
    "    elif any(angle > 90 for angle in angles): \n",
    "        print(\"Obtuse triangle\") \n",
    "    else: \n",
    "        print(\"Acute triangle\") \n",
    "else: \n",
    "    print(\"Not a triangle\") "
   ],
   "outputs": [],
   "execution_count": null
  },
  {
   "cell_type": "code",
   "id": "05b3c8ee",
   "metadata": {},
   "source": [],
   "outputs": [],
   "execution_count": null
  },
  {
   "cell_type": "markdown",
   "id": "af29091f",
   "metadata": {},
   "source": [
    "38.#Program to print type of all elements in the given list"
   ]
  },
  {
   "cell_type": "code",
   "id": "d8c04bca",
   "metadata": {},
   "source": [
    "lst = [1, 'hello', 3.14, True] \n",
    "for item in lst: \n",
    "    print(type(item)) "
   ],
   "outputs": [],
   "execution_count": null
  },
  {
   "cell_type": "markdown",
   "id": "c0fc447b",
   "metadata": {},
   "source": [
    "39.#Program to print sum and average in the given list of integers"
   ]
  },
  {
   "cell_type": "code",
   "id": "73f57549",
   "metadata": {},
   "source": [
    "lst = [10, 20, 30, 40] \n",
    "total = sum(lst) \n",
    "average = total / len(lst) \n",
    "print(f\"Sum: {total}, Average: {average}\") "
   ],
   "outputs": [],
   "execution_count": null
  },
  {
   "cell_type": "markdown",
   "id": "92746ad0",
   "metadata": {},
   "source": [
    "40. '''Program to print a list containing only those elements, which are less than 40 in the given list'''"
   ]
  },
  {
   "cell_type": "code",
   "id": "00fe04bf",
   "metadata": {},
   "source": [
    "lst = [10, 50, 30, 70, 20] \n",
    "result = [x for x in lst if x < 40] \n",
    "print(result) "
   ],
   "outputs": [],
   "execution_count": null
  },
  {
   "cell_type": "markdown",
   "id": "0aca3e19",
   "metadata": {},
   "source": [
    "41. #Program to print a list containing only those elements, which are string in the given list"
   ]
  },
  {
   "cell_type": "code",
   "id": "2dce2b97",
   "metadata": {
    "lines_to_next_cell": 2
   },
   "source": [
    "lst = [1, 'apple', 3.14, 'banana', True] \n",
    "result = [x for x in lst if isinstance(x, str)] \n",
    "print(result) "
   ],
   "outputs": [],
   "execution_count": null
  },
  {
   "cell_type": "code",
   "id": "71dc921c",
   "metadata": {},
   "source": [
    "#42. #Program to print all elements in the given list of strings with their reverse string\n",
    "lst = ['hello', 'world', 'python'] \n",
    "for word in lst: \n",
    "    print(word, word[::-1]) "
   ],
   "outputs": [],
   "execution_count": null
  },
  {
   "cell_type": "code",
   "id": "fcd49aa4",
   "metadata": {},
   "source": [
    "#43. #Program to print elements of the list in reversed order\n",
    "lst = [1, 2, 3, 4, 5] \n",
    "print(lst[::-1])"
   ],
   "outputs": [],
   "execution_count": null
  },
  {
   "cell_type": "code",
   "id": "fd332bb0",
   "metadata": {},
   "source": [
    "#44.#Program to print elements of the given list of integers in descending order\n",
    "lst = [10, 50, 20, 40, 30] \n",
    "print(sorted(lst, reverse=True)) "
   ],
   "outputs": [],
   "execution_count": null
  },
  {
   "cell_type": "code",
   "id": "94336d38",
   "metadata": {},
   "source": [
    "#45.#Program to remove 17 from the list\n",
    "lst = [10, 17, 20, 17, 30] \n",
    "while 17 in lst: \n",
    "    lst.remove(17) \n",
    "    print(lst) "
   ],
   "outputs": [],
   "execution_count": null
  },
  {
   "cell_type": "code",
   "id": "a72234ed",
   "metadata": {
    "lines_to_next_cell": 2
   },
   "source": [
    "#46. #Program to print squares of the elements in the given list along with elements\n",
    "lst = [2, 3, 4] \n",
    "for x in lst: \n",
    "    print(f\"{x}^2 = {x**2}\") "
   ],
   "outputs": [],
   "execution_count": null
  },
  {
   "cell_type": "markdown",
   "id": "47717b7b",
   "metadata": {},
   "source": [
    "47.#Program to count vowels in the inputted string and store their count in dictionary"
   ]
  },
  {
   "cell_type": "code",
   "id": "4664c334",
   "metadata": {},
   "source": [
    "string = \"hello world\" \n",
    "vowels = 'aeiou' \n",
    "vowel_count = {v: string.lower().count(v) for v in vowels if v in string.lower()} \n",
    "print(vowel_count) "
   ],
   "outputs": [],
   "execution_count": null
  },
  {
   "cell_type": "markdown",
   "id": "953fc475",
   "metadata": {},
   "source": [
    "48.#Program to count the frequency of elements in a given list of strings, store the count in dictionary"
   ]
  },
  {
   "cell_type": "code",
   "id": "87fd1fcf",
   "metadata": {
    "lines_to_next_cell": 2
   },
   "source": [
    "lst = ['apple', 'banana', 'apple', 'orange', 'banana'] \n",
    "freq = {item: lst.count(item) for item in set(lst)} \n",
    "print(freq) "
   ],
   "outputs": [],
   "execution_count": null
  },
  {
   "cell_type": "markdown",
   "id": "d9082595",
   "metadata": {},
   "source": [
    "49.#Program  to print the square of first 10 natural numbers"
   ]
  },
  {
   "cell_type": "code",
   "id": "9041c678",
   "metadata": {
    "lines_to_next_cell": 2
   },
   "source": [
    "for i in range(1, 11): \n",
    "    print(f\"{i}^2 = {i**2}\") "
   ],
   "outputs": [],
   "execution_count": null
  },
  {
   "cell_type": "markdown",
   "id": "4eb8e630",
   "metadata": {},
   "source": [
    "50.#Program to print even numbers between 32 to 57 in a single line"
   ]
  },
  {
   "cell_type": "code",
   "id": "8114b52f",
   "metadata": {},
   "source": [
    "print(\" \".join(str(x) for x in range(32, 58) if x % 2 == 0)) "
   ],
   "outputs": [],
   "execution_count": null
  },
  {
   "cell_type": "code",
   "id": "6057ebe2",
   "metadata": {},
   "source": [
    "#51.#Program to print sum of odd numbers between 1 to 20\n",
    "print(sum(x for x in range(1, 21) if x % 2 != 0)) "
   ],
   "outputs": [],
   "execution_count": null
  },
  {
   "cell_type": "code",
   "id": "24088930",
   "metadata": {
    "lines_to_next_cell": 1
   },
   "source": [
    "#52.#Program to print multiplication table of an inputted number\n",
    "num = int(input(\"Enter a number: \")) \n",
    "for i in range(1, 11): \n",
    "    print(f\"{num} x {i} = {num * i}\")"
   ],
   "outputs": [],
   "execution_count": null
  },
  {
   "cell_type": "code",
   "id": "3408ce5e",
   "metadata": {},
   "source": [
    "#53.#Program to print factorial of an inputted number\n",
    "def factorial(n):\n",
    "    return 1 if n == 0 or n == 1 else n * factorial(n - 1)\n",
    "num = int(input(\"Enter a non-negative integer: \"))\n",
    "if num < 0:\n",
    "    print(\"Factorial is not defined for negative numbers.\")\n",
    "else:\n",
    "    print(f\"The factorial of {num} is: {factorial(num)}\")"
   ],
   "outputs": [],
   "execution_count": null
  },
  {
   "cell_type": "code",
   "id": "e8e12a02",
   "metadata": {},
   "source": [
    "#54.#Program to check whether a number is prime or not.\n",
    "num = int(input(\"Enter a number: \")) \n",
    "is_prime = all(num % i != 0 for i in range(2, int(num ** 0.5) + 1)) if num > 1 else False \n",
    "print(\"Prime\" if is_prime else \"Not Prime\") "
   ],
   "outputs": [],
   "execution_count": null
  },
  {
   "cell_type": "code",
   "id": "a907d654",
   "metadata": {},
   "source": [
    "#55.#To print fibonacci series of digits inputted by user\n",
    "n = int(input(\"Enter the number of terms for Fibonacci series: \")) \n",
    "a, b = 0, 1 \n",
    "for _ in range(n): \n",
    "    print(a, end=\" \") \n",
    "a, b = b, a + b \n",
    "print() "
   ],
   "outputs": [],
   "execution_count": null
  },
  {
   "cell_type": "code",
   "id": "1a7485eb",
   "metadata": {},
   "source": [
    " "
   ],
   "outputs": [],
   "execution_count": null
  },
  {
   "cell_type": "markdown",
   "id": "e2d3458d",
   "metadata": {},
   "source": [
    "56. Print a square pattern of '#'. "
   ]
  },
  {
   "cell_type": "code",
   "id": "c6ff4d1b",
   "metadata": {},
   "source": [
    "for _ in range(4): \n",
    "    print(\"# \" * 4) \n",
    "print(f\"End of Ques No. #56\")\n",
    "print(f\" \")\n",
    "#57) Print a right-angled triangle pattern of '#'."
   ],
   "outputs": [],
   "execution_count": null
  },
  {
   "cell_type": "code",
   "id": "5f8964f3",
   "metadata": {
    "lines_to_next_cell": 2
   },
   "source": [
    "for i in range(1, 5): \n",
    "    print(\"# \" * i) \n",
    "print(f\"End of Ques No. #57\")\n",
    "print(f\" \") \n",
    "#58) Print an inverted right-angled triangle pattern of '#'."
   ],
   "outputs": [],
   "execution_count": null
  },
  {
   "cell_type": "code",
   "id": "9f251fb9",
   "metadata": {},
   "source": [
    "for i in range(4, 0, -1): \n",
    "    print(\"# \" * i) \n",
    "print(f\"End of Ques No. #58\")\n",
    "print(f\" \")"
   ],
   "outputs": [],
   "execution_count": null
  },
  {
   "cell_type": "markdown",
   "id": "289410ec",
   "metadata": {},
   "source": [
    "59) #Program to find the largest of 3 numbers using function"
   ]
  },
  {
   "cell_type": "code",
   "id": "cc4109ca",
   "metadata": {
    "lines_to_next_cell": 1
   },
   "source": [
    "def largest(a, b, c):\n",
    "    return max(a, b, c)"
   ],
   "outputs": [],
   "execution_count": null
  },
  {
   "cell_type": "code",
   "id": "4d50e752",
   "metadata": {
    "lines_to_next_cell": 2
   },
   "source": [
    "# Input and output in one step\n",
    "num1, num2, num3 = map(float, input(\"Enter three numbers separated by space: \").split())\n",
    "print(\"The largest number is:\", largest(num1, num2, num3))"
   ],
   "outputs": [],
   "execution_count": null
  },
  {
   "cell_type": "code",
   "id": "dfbd12a8",
   "metadata": {
    "lines_to_next_cell": 1
   },
   "source": [
    "#60) #Program to find the gcd of two numbers using function \n",
    "from math import gcd \n",
    "a, b = map(int, input(\"Enter two numbers: \").split()) \n",
    "print(f\"GCD: {gcd(a, b)}\")"
   ],
   "outputs": [],
   "execution_count": null
  },
  {
   "cell_type": "code",
   "id": "78753dbd",
   "metadata": {
    "lines_to_next_cell": 1
   },
   "source": [
    "#61) #Program to generate the Fibonacci series using function\n",
    "def fibonacci(n):\n",
    "    a, b = 0, 1\n",
    "    for _ in range(n):\n",
    "        print(a, end=\" \")\n",
    "        a, b = b, a + b"
   ],
   "outputs": [],
   "execution_count": null
  },
  {
   "cell_type": "code",
   "id": "5b24c070",
   "metadata": {
    "lines_to_next_cell": 1
   },
   "source": [
    "# Input number of terms\n",
    "n = int(input(\"Enter the number of terms in the Fibonacci series: \"))\n",
    "fibonacci(n)\n",
    "print(f\" \")"
   ],
   "outputs": [],
   "execution_count": null
  },
  {
   "cell_type": "code",
   "id": "243c51d7",
   "metadata": {
    "lines_to_next_cell": 1
   },
   "source": [
    "#62) #Program to find the factorial of a no using function\n",
    "def factorial(n):\n",
    "    return 1 if n == 0 else n * factorial(n - 1)"
   ],
   "outputs": [],
   "execution_count": null
  },
  {
   "cell_type": "code",
   "id": "e9aa7765",
   "metadata": {},
   "source": [
    "# Input number\n",
    "n = int(input(\"Enter a number: \"))\n",
    "print(f\"The factorial of {n} is: {factorial(n)}\")"
   ],
   "outputs": [],
   "execution_count": null
  },
  {
   "cell_type": "code",
   "id": "cbf0383d",
   "metadata": {},
   "source": [
    " "
   ],
   "outputs": [],
   "execution_count": null
  },
  {
   "cell_type": "markdown",
   "id": "3347da41",
   "metadata": {},
   "source": [
    "63) Program to swap two numbers using various methods."
   ]
  },
  {
   "cell_type": "code",
   "id": "0cf16bc6",
   "metadata": {},
   "source": [
    "a, b = map(int, input(\"Enter two numbers: \").split()) \n",
    "# Using a third variable \n",
    "temp = a \n",
    "a = b \n",
    "b = temp \n",
    "print(f\"After swap using third variable: a={a}, b={b}\") \n",
    "# Without using third variable \n",
    "a, b = b, a \n",
    "print(f\"After swap without third variable: a={a}, b={b}\") \n",
    "# Using bitwise XOR \n",
    "a = a ^ b \n",
    "b = a ^ b \n",
    "a = a ^ b \n",
    "print(f\"After swap using XOR: a={a}, b={b}\") \n",
    "# Using arithmetic operations \n",
    "a = a + b \n",
    "b = a - b \n",
    "a = a - b \n",
    "print(f\"After swap using arithmetic: a={a}, b={b}\") "
   ],
   "outputs": [],
   "execution_count": null
  },
  {
   "cell_type": "markdown",
   "id": "72d7d043",
   "metadata": {},
   "source": [
    "64) #Program to generate the Fibonacci series using recursion function"
   ]
  },
  {
   "cell_type": "code",
   "id": "2184c13c",
   "metadata": {},
   "source": [
    "def fibonacci(n, a=0, b=1):\n",
    "    if n > 0:\n",
    "        print(a, end=\" \")\n",
    "        fibonacci(n-1, b, a+b)\n",
    "# Input number of terms\n",
    "n = int(input(\"Enter the number of terms in the Fibonacci series: \"))\n",
    "fibonacci(n)\n",
    "print(f\" \")\n",
    "#65) #Program to find the factorial of a no using recursion function"
   ],
   "outputs": [],
   "execution_count": null
  },
  {
   "cell_type": "code",
   "id": "65354976",
   "metadata": {
    "lines_to_next_cell": 1
   },
   "source": [
    "def factorial(n):\n",
    "    return 1 if n == 0 else n * factorial(n - 1)"
   ],
   "outputs": [],
   "execution_count": null
  },
  {
   "cell_type": "code",
   "id": "370b2ccf",
   "metadata": {},
   "source": [
    "# Input number\n",
    "n = int(input(\"Enter a number: \"))\n",
    "print(f\"The factorial of {n} is: {factorial(n)}\")\n",
    "print(f\" \")\n",
    "#66) Program to find odd list from a list of numbers using filter function"
   ],
   "outputs": [],
   "execution_count": null
  },
  {
   "cell_type": "code",
   "id": "fd4ef698",
   "metadata": {},
   "source": [
    "# Input list of numbers\n",
    "numbers = list(map(int, input(\"Enter numbers separated by space: \").split()))"
   ],
   "outputs": [],
   "execution_count": null
  },
  {
   "cell_type": "code",
   "id": "9e864494",
   "metadata": {},
   "source": [
    "# Use filter to find odd numbers\n",
    "odd_numbers = list(filter(lambda x: x % 2 != 0, numbers))"
   ],
   "outputs": [],
   "execution_count": null
  },
  {
   "cell_type": "code",
   "id": "ef85018e",
   "metadata": {
    "lines_to_next_cell": 2
   },
   "source": [
    "print(\"Odd numbers:\", odd_numbers)\n",
    "print(f\" \")"
   ],
   "outputs": [],
   "execution_count": null
  },
  {
   "cell_type": "markdown",
   "id": "d6e78981",
   "metadata": {},
   "source": [
    "67) Program to find the square root of all numbers from a list of numbers using map function"
   ]
  },
  {
   "cell_type": "code",
   "id": "37305a67",
   "metadata": {},
   "source": [
    "import math \n",
    "lst = [4, 9, 16, 25] \n",
    "squares = list(map(math.sqrt, lst)) \n",
    "print(squares) "
   ],
   "outputs": [],
   "execution_count": null
  },
  {
   "cell_type": "markdown",
   "id": "7e579d65",
   "metadata": {},
   "source": [
    "68) Program to find the product of all numbers of a list using reduce function"
   ]
  },
  {
   "cell_type": "code",
   "id": "37b8d3f6",
   "metadata": {
    "lines_to_next_cell": 2
   },
   "source": [
    "from functools import reduce \n",
    "lst = [1, 2, 3, 4] \n",
    "product = reduce(lambda x, y: x * y, lst) \n",
    "print(product) "
   ],
   "outputs": [],
   "execution_count": null
  },
  {
   "cell_type": "markdown",
   "id": "3662eab4",
   "metadata": {},
   "source": [
    "PYTHON ASSIGNMENT 3 – STRING\n",
    "============================"
   ]
  },
  {
   "cell_type": "markdown",
   "id": "19c93ce3",
   "metadata": {},
   "source": [
    "1. Write a program that accepts a string from user. Your program should count and display number of vowels in that string.  "
   ]
  },
  {
   "cell_type": "code",
   "id": "278cafbc",
   "metadata": {
    "lines_to_next_cell": 2
   },
   "source": [
    "string = input(\"Enter a string: \") \n",
    "vowels = \"aeiouAEIOU\" \n",
    "vowel_count = sum(1 for char in string if char in vowels) \n",
    "print(f\"Number of vowels: {vowel_count}\")"
   ],
   "outputs": [],
   "execution_count": null
  },
  {
   "cell_type": "markdown",
   "id": "cac3c2ce",
   "metadata": {},
   "source": [
    "2. Write a program that reads a string from keyboard and display:\n",
    "* The number of uppercase letters in the string\n",
    "* The number of lowercase letters in the string\n",
    "* The number of digits in the string\n",
    "* The number of whitespace characters in the string  "
   ]
  },
  {
   "cell_type": "code",
   "id": "1f818376",
   "metadata": {},
   "source": [
    "string = input(\"Enter a string: \") \n",
    "upper_count = sum(1 for char in string if char.isupper()) \n",
    "lower_count = sum(1 for char in string if char.islower()) \n",
    "digit_count = sum(1 for char in string if char.isdigit()) \n",
    "whitespace_count = sum(1 for char in string if char.isspace()) \n",
    "print(f\"Uppercase: {upper_count}, Lowercase: {lower_count}, Digits: {digit_count}, Whitespaces: {whitespace_count}\") "
   ],
   "outputs": [],
   "execution_count": null
  },
  {
   "cell_type": "markdown",
   "id": "6de47fda",
   "metadata": {},
   "source": [
    "3. Write a Python program that accepts a string from user. Your program should create and display a new string where the first and last characters have been exchanged."
   ]
  },
  {
   "cell_type": "code",
   "id": "698dfe83",
   "metadata": {
    "lines_to_next_cell": 2
   },
   "source": [
    "string = input(\"Enter a string: \") \n",
    "if len(string) > 1: \n",
    "    new_string = string[-1] + string[1:-1] + string[0] \n",
    "else: \n",
    "    new_string = string \n",
    "print(f\"New string: {new_string}\") "
   ],
   "outputs": [],
   "execution_count": null
  },
  {
   "cell_type": "markdown",
   "id": "34ef689a",
   "metadata": {
    "lines_to_next_cell": 2
   },
   "source": [
    "4. Write a Python program that accepts a string from user. Your program should create a new string in reverse of first string and display it.\n",
    "For example if the user enters the string 'EXAM' then new string would be 'MAXE'  \n",
    "For example if the user enters the string 'HELLO' then new string would be 'OELLH'  "
   ]
  },
  {
   "cell_type": "code",
   "id": "1863c57f",
   "metadata": {},
   "source": [
    "string = input(\"Enter a string: \") \n",
    "reversed_string = \"\".join(string[i] for i in range(len(string) - 1, -1, -1)) \n",
    "print(f\"Reversed string: {reversed_string}\") "
   ],
   "outputs": [],
   "execution_count": null
  },
  {
   "cell_type": "markdown",
   "id": "0b462e4e",
   "metadata": {
    "lines_to_next_cell": 2
   },
   "source": [
    "5. Write a Python program that accepts a string from user. Your program should create a new string by shifting one position to left.\n",
    "For example if the user enters the string 'examination 2021' then new string would be 'xamination 2021e'  "
   ]
  },
  {
   "cell_type": "code",
   "id": "3dcea355",
   "metadata": {
    "lines_to_next_cell": 2
   },
   "source": [
    "string = input(\"Enter a string: \") \n",
    "if len(string) > 0: \n",
    "    shifted_string = string[1:] + string[0] \n",
    "else: \n",
    "    shifted_string = string \n",
    "print(f\"Shifted string: {shifted_string}\") "
   ],
   "outputs": [],
   "execution_count": null
  },
  {
   "cell_type": "markdown",
   "id": "d44882eb",
   "metadata": {
    "lines_to_next_cell": 2
   },
   "source": [
    "6. Write a program that asks the user to input his name and print its initials. Assuming that the user always types first name, middle name and last name and does not include any unnecessary spaces.\n",
    "For example, if the user enters Ajay Kumar Garg the program should display A. K. G.\n",
    "Note: Don't use split() method  "
   ]
  },
  {
   "cell_type": "code",
   "id": "29a2efc7",
   "metadata": {},
   "source": [
    "name = input(\"Enter your full name: \") \n",
    "initials = \"\" \n",
    "for char in name: \n",
    "    if char.isupper(): \n",
    "        initials += char + \". \"\n",
    "print(f\"Initials: {initials.strip()}\") "
   ],
   "outputs": [],
   "execution_count": null
  },
  {
   "cell_type": "markdown",
   "id": "b09778e1",
   "metadata": {},
   "source": [
    "7. A palindrome is a string that reads the same backward as forward. For example, the words dad, madam and radar are all palindromes. Write a programs that determines whether the string is a palindrome.\n",
    "Note: do not use reverse() method  "
   ]
  },
  {
   "cell_type": "code",
   "id": "422ef0b1",
   "metadata": {},
   "source": [
    "string = input(\"Enter a string: \") \n",
    "is_palindrome = string == \"\".join(string[i] for i in range(len(string) - 1, -1, -1)) \n",
    "print(\"Palindrome\" if is_palindrome else \"Not a palindrome\") "
   ],
   "outputs": [],
   "execution_count": null
  },
  {
   "cell_type": "markdown",
   "id": "bb87b893",
   "metadata": {},
   "source": [
    "8. Program to display cyclic shifts of the word \"SHIFT\". "
   ]
  },
  {
   "cell_type": "code",
   "id": "afb22c96",
   "metadata": {},
   "source": [
    "word = \"SHIFT\" \n",
    "for i in range(len(word)): \n",
    "    print(word[i:] + word[:i]) "
   ],
   "outputs": [],
   "execution_count": null
  },
  {
   "cell_type": "markdown",
   "id": "cb366650",
   "metadata": {},
   "source": [
    "9. Write a program in python that accepts a string to setup a passwords. Your entered password must meet the following requirements:\n",
    "•\tThe password must be at least eight characters long.\n",
    "•\tIt must contain at least one uppercase letter.\n",
    "•\tIt must contain at least one lowercase letter.\n",
    "•\tIt must contain at least one numeric digit.\n",
    "Your program should perform this validation.  "
   ]
  },
  {
   "cell_type": "code",
   "id": "2b10bb8a",
   "metadata": {},
   "source": [
    "password = input(\"Enter a password: \") \n",
    "if (len(password) >= 8 and \n",
    "    any(char.isupper() for char in password) and \n",
    "    any(char.islower() for char in password) and \n",
    "    any(char.isdigit() for char in password)):\n",
    "    print(\"Password is valid\") \n",
    "else: \n",
    "    print(\"Password is invalid. Ensure it meets the requirements.\") "
   ],
   "outputs": [],
   "execution_count": null
  },
  {
   "cell_type": "code",
   "id": "e4f48a4f",
   "metadata": {},
   "source": [],
   "outputs": [],
   "execution_count": null
  },
  {
   "cell_type": "markdown",
   "id": "5b661b15",
   "metadata": {},
   "source": [
    "Python Assignment – List\n",
    "=========================="
   ]
  },
  {
   "cell_type": "code",
   "id": "235c6437",
   "metadata": {
    "lines_to_next_cell": 2
   },
   "source": [
    "#1. Write a program that accepts a list from user and print the alternate element of list.    \n",
    "lst = input(\"Enter a list of elements separated by space: \").split() \n",
    "print(\"Alternate elements:\", lst[::2]) "
   ],
   "outputs": [],
   "execution_count": null
  },
  {
   "cell_type": "markdown",
   "id": "bca7dfd4",
   "metadata": {},
   "source": [
    "2. Write a program that accepts a list from user. Your program should reverse the content of list and display it. Do not use reverse() method.  "
   ]
  },
  {
   "cell_type": "code",
   "id": "4bab7082",
   "metadata": {},
   "source": [
    "lst = input(\"Enter a list of elements separated by space: \").split() \n",
    "reversed_lst = [lst[i] for i in range(len(lst) - 1, -1, -1)] \n",
    "print(\"Reversed list:\", reversed_lst) "
   ],
   "outputs": [],
   "execution_count": null
  },
  {
   "cell_type": "code",
   "id": "4328e13a",
   "metadata": {},
   "source": [],
   "outputs": [],
   "execution_count": null
  },
  {
   "cell_type": "markdown",
   "id": "cd1caac0",
   "metadata": {},
   "source": [
    "3. Find and display the largest number of a list without using built-in function max(). Your program should ask the user to input values in list from keyboard.  "
   ]
  },
  {
   "cell_type": "code",
   "id": "afd44702",
   "metadata": {},
   "source": [
    "lst = list(map(int, input(\"Enter a list of integers separated by space: \").split()))\n",
    "largest = lst[0]\n",
    "for num in lst:\n",
    "    if num > largest:\n",
    "        largest = num\n",
    "print(\"Largest number:\", largest)"
   ],
   "outputs": [],
   "execution_count": null
  },
  {
   "cell_type": "code",
   "id": "fa1f8f02",
   "metadata": {},
   "source": [
    " "
   ],
   "outputs": [],
   "execution_count": null
  },
  {
   "cell_type": "code",
   "id": "35794716",
   "metadata": {
    "lines_to_next_cell": 2
   },
   "source": [
    "#4. Write a program that rotates the element of a list so that the element at the first index moves to the second index, the element in the second index moves to the third index, etc., and the element in the last index moves to the first index. \n",
    "lst = input(\"Enter a list of elements separated by space: \").split() \n",
    "if lst: \n",
    "    rotated_list = lst[1:] + lst[:1] \n",
    "else: \n",
    "    rotated_list = lst \n",
    "print(\"Rotated list:\", rotated_list) "
   ],
   "outputs": [],
   "execution_count": null
  },
  {
   "cell_type": "markdown",
   "id": "24cb254f",
   "metadata": {},
   "source": [
    "5. Write a program that input a string and ask user to delete a given word from a string.  "
   ]
  },
  {
   "cell_type": "code",
   "id": "c1ba4436",
   "metadata": {
    "lines_to_next_cell": 2
   },
   "source": [
    "string = input(\"Enter a string: \") \n",
    "word_to_delete = input(\"Enter the word to delete: \") \n",
    "modified_string = string.replace(word_to_delete, \"\") \n",
    "print(\"Modified string:\", modified_string) "
   ],
   "outputs": [],
   "execution_count": null
  },
  {
   "cell_type": "markdown",
   "id": "7873be79",
   "metadata": {},
   "source": [
    "6. Write a program that reads a string from the user containing a date in the form mm/dd/yyyy. It should print the date in the form March 12, 2021.  "
   ]
  },
  {
   "cell_type": "code",
   "id": "bf9b2e55",
   "metadata": {},
   "source": [
    "date_string = input(\"Enter a date (mm/dd/yyyy): \") \n",
    "months = [\"January\", \"February\", \"March\", \"April\", \"May\", \"June\", \n",
    "\"July\", \"August\", \"September\", \"October\", \"November\", \"December\"] \n",
    "mm, dd, yyyy = map(int, date_string.split(\"/\")) \n",
    "print(f\"{months[mm-1]} {dd}, {yyyy}\") "
   ],
   "outputs": [],
   "execution_count": null
  },
  {
   "cell_type": "code",
   "id": "2e318625",
   "metadata": {
    "lines_to_next_cell": 2
   },
   "source": [
    "#7. Write a program with a function that accepts a string from keyboard and create a new string after converting character of each word capitalized. For instance, if the sentence is \"stop and smell the roses.\" the output should be \"Stop And Smell The Roses\"\n",
    "#   \n",
    "def capitalize_words(string): \n",
    "    words = string.split() \n",
    "    return \" \".join(word.capitalize() for word in words) \n",
    "string = input(\"Enter a sentence: \") \n",
    "print(\"Capitalized sentence:\", capitalize_words(string)) \n",
    "# "
   ],
   "outputs": [],
   "execution_count": null
  },
  {
   "cell_type": "markdown",
   "id": "4bd7c1df",
   "metadata": {},
   "source": [
    "8. Find the sum of each row of matrix of size m x n. "
   ]
  },
  {
   "cell_type": "code",
   "id": "05c31603",
   "metadata": {
    "lines_to_next_cell": 1
   },
   "source": [
    "def get_matrix(rows, cols):\n",
    "    \"\"\"\n",
    "    Accepts user input to create a matrix with given rows and columns.\n",
    "\n",
    "    Args:\n",
    "        rows (int): Number of rows.\n",
    "        cols (int): Number of columns.\n",
    "\n",
    "    Returns:\n",
    "        list of list of int/float: The resulting matrix.\n",
    "    \"\"\"\n",
    "    print(f\"Enter elements for the matrix ({rows}x{cols}):\")\n",
    "    matrix = []\n",
    "    for i in range(rows):\n",
    "        row = list(map(int, input(f\"Row {i + 1}: \").split()))\n",
    "        if len(row) != cols:\n",
    "            raise ValueError(f\"Each row must have exactly {cols} elements.\")\n",
    "        matrix.append(row)\n",
    "    return matrix"
   ],
   "outputs": [],
   "execution_count": null
  },
  {
   "cell_type": "code",
   "id": "788eb8cc",
   "metadata": {
    "lines_to_next_cell": 1
   },
   "source": [
    "def row_sums(matrix):\n",
    "    \"\"\"\n",
    "    Calculates the sum of each row in the matrix.\n",
    "\n",
    "    Args:\n",
    "        matrix (list of list of int/float): The input matrix.\n",
    "\n",
    "    Returns:\n",
    "        list of int/float: A list containing the sum of each row.\n",
    "    \"\"\"\n",
    "    return [sum(row) for row in matrix]"
   ],
   "outputs": [],
   "execution_count": null
  },
  {
   "cell_type": "code",
   "id": "00a3d9f6",
   "metadata": {},
   "source": [
    "def main():\n",
    "    # Input dimensions for the matrix\n",
    "    rows = int(input(\"Enter the number of rows for the matrix: \"))\n",
    "    cols = int(input(\"Enter the number of columns for the matrix: \"))\n",
    "\n",
    "    # Get the matrix from user\n",
    "    matrix = get_matrix(rows, cols)\n",
    "\n",
    "    # Calculate the sum of each row\n",
    "    sums = row_sums(matrix)\n",
    "\n",
    "    # Display the results\n",
    "    print(\"Sum of each row:\")\n",
    "    for i, total in enumerate(sums, start=1):\n",
    "        print(f\"Row {i}: {total}\")"
   ],
   "outputs": [],
   "execution_count": null
  },
  {
   "cell_type": "code",
   "id": "049538c0",
   "metadata": {},
   "source": [
    "if __name__ == \"__main__\":\n",
    "    main()"
   ],
   "outputs": [],
   "execution_count": null
  },
  {
   "cell_type": "code",
   "id": "5e3c57fe",
   "metadata": {
    "lines_to_next_cell": 1
   },
   "source": [
    "#9. Write a program to add two matrices of size n x m.\n",
    "def get_matrix(rows, cols, name):\n",
    "    \"\"\"\n",
    "    Accepts user input to create a matrix with given rows and columns.\n",
    "\n",
    "    Args:\n",
    "        rows (int): Number of rows.\n",
    "        cols (int): Number of columns.\n",
    "        name (str): Name of the matrix for prompting.\n",
    "\n",
    "    Returns:\n",
    "        list of list of int/float: The resulting matrix.\n",
    "    \"\"\"\n",
    "    print(f\"Enter elements for matrix {name} ({rows}x{cols}):\")\n",
    "    matrix = []\n",
    "    for i in range(rows):\n",
    "        row = list(map(int, input(f\"Row {i + 1}: \").split()))\n",
    "        if len(row) != cols:\n",
    "            raise ValueError(f\"Each row must have exactly {cols} elements.\")\n",
    "        matrix.append(row)\n",
    "    return matrix"
   ],
   "outputs": [],
   "execution_count": null
  },
  {
   "cell_type": "code",
   "id": "9d2122b7",
   "metadata": {
    "lines_to_next_cell": 1
   },
   "source": [
    "def add_matrices(matrix1, matrix2):\n",
    "    \"\"\"\n",
    "    Adds two matrices of the same size.\n",
    "\n",
    "    Args:\n",
    "        matrix1 (list of list of int/float): The first matrix.\n",
    "        matrix2 (list of list of int/float): The second matrix.\n",
    "\n",
    "    Returns:\n",
    "        list of list of int/float: The resulting matrix after addition.\n",
    "    \"\"\"\n",
    "    rows = len(matrix1)\n",
    "    cols = len(matrix1[0])\n",
    "    result = [[matrix1[i][j] + matrix2[i][j] for j in range(cols)] for i in range(rows)]\n",
    "    return result"
   ],
   "outputs": [],
   "execution_count": null
  },
  {
   "cell_type": "code",
   "id": "ea212818",
   "metadata": {
    "lines_to_next_cell": 1
   },
   "source": [
    "def main():\n",
    "    # Input dimensions for the matrices\n",
    "    rows = int(input(\"Enter the number of rows for the matrices: \"))\n",
    "    cols = int(input(\"Enter the number of columns for the matrices: \"))\n",
    "\n",
    "    # Get both matrices from the user\n",
    "    matrix1 = get_matrix(rows, cols, \"A\")\n",
    "    matrix2 = get_matrix(rows, cols, \"B\")\n",
    "\n",
    "    # Add the matrices\n",
    "    result = add_matrices(matrix1, matrix2)\n",
    "\n",
    "    # Display the result\n",
    "    print(\"Sum of the matrices:\")\n",
    "    for row in result:\n",
    "        print(\" \".join(map(str, row)))"
   ],
   "outputs": [],
   "execution_count": null
  },
  {
   "cell_type": "code",
   "id": "1cda0829",
   "metadata": {
    "lines_to_next_cell": 2
   },
   "source": [
    "if __name__ == \"__main__\":\n",
    "    main()"
   ],
   "outputs": [],
   "execution_count": null
  },
  {
   "cell_type": "markdown",
   "id": "e64389df",
   "metadata": {},
   "source": [
    "10. Write a program to multiply two matrices\n",
    "Matrix Multiplication Program"
   ]
  },
  {
   "cell_type": "code",
   "id": "910907eb",
   "metadata": {},
   "source": [
    "# Input dimensions and elements of the first matrix\n",
    "rows1 = int(input(\"Enter the number of rows for the first matrix: \")) \n",
    "cols1 = int(input(\"Enter the number of columns for the first matrix: \")) \n",
    "print(\"Enter elements of the first matrix:\") \n",
    "matrix1 = [list(map(int, input().split())) for _ in range(rows1)] "
   ],
   "outputs": [],
   "execution_count": null
  },
  {
   "cell_type": "code",
   "id": "ca66b896",
   "metadata": {},
   "source": [
    "# Input dimensions and elements of the second matrix\n",
    "rows2 = int(input(\"Enter the number of rows for the second matrix: \")) \n",
    "cols2 = int(input(\"Enter the number of columns for the second matrix: \")) "
   ],
   "outputs": [],
   "execution_count": null
  },
  {
   "cell_type": "code",
   "id": "f0b294a2",
   "metadata": {},
   "source": [
    "# Check if matrix multiplication is possible\n",
    "if cols1 != rows2: \n",
    "    print(\"Matrix multiplication not possible. Columns of the first matrix must equal rows of the second matrix.\") \n",
    "else: \n",
    "    print(\"Enter elements of the second matrix:\") \n",
    "    matrix2 = [list(map(int, input().split())) for _ in range(rows2)] \n",
    "    \n",
    "    # Multiplying matrices\n",
    "    result = [[sum(matrix1[i][k] * matrix2[k][j] for k in range(cols1)) for j in range(cols2)] for i in range(rows1)]\n",
    "\n",
    "    # Printing the result\n",
    "    print(\"Product of matrices:\")\n",
    "    for row in result:\n",
    "        print(\" \".join(map(str, row)))"
   ],
   "outputs": [],
   "execution_count": null
  },
  {
   "cell_type": "code",
   "id": "2e2e8bdf",
   "metadata": {},
   "source": [],
   "outputs": [],
   "execution_count": null
  },
  {
   "cell_type": "markdown",
   "id": "5986734f",
   "metadata": {},
   "source": [
    "Python Assignment – 5 (Function)\n",
    "===================================="
   ]
  },
  {
   "cell_type": "code",
   "id": "a5e3d955",
   "metadata": {},
   "source": [
    "#1: Create a function in Python and call it. \n",
    "#   \n",
    "def greet(): \n",
    "    print(\"Hello, World! This is Python\") \n",
    "greet() \n",
    "# "
   ],
   "outputs": [],
   "execution_count": null
  },
  {
   "cell_type": "code",
   "id": "b0c2d1fb",
   "metadata": {},
   "source": [
    "#2: Create a function with variable length of arguments\n",
    "#   \n",
    "def variable_args(*args): \n",
    "    print(\"Arguments:\", args) \n",
    "variable_args(1, 2, 3, 4)\n",
    "# "
   ],
   "outputs": [],
   "execution_count": null
  },
  {
   "cell_type": "code",
   "id": "a420ac47",
   "metadata": {},
   "source": [
    "#3: Return multiple values from a function.\n",
    "#   \n",
    "def multiple_returns(): \n",
    "    return \"Hello\", 35, [1, 2, 3, 5] \n",
    "result = multiple_returns() \n",
    "print(\"Returned values:\", result) \n",
    "# "
   ],
   "outputs": [],
   "execution_count": null
  },
  {
   "cell_type": "code",
   "id": "2d7bceeb",
   "metadata": {},
   "source": [
    "#4: Create a function with a default argument.\n",
    "#   \n",
    "def greet_user(name=\"Guest\"): \n",
    "    print(f\"Hello, {name}!\") \n",
    "greet_user(\"Alice\") "
   ],
   "outputs": [],
   "execution_count": null
  },
  {
   "cell_type": "code",
   "id": "2b519b5c",
   "metadata": {},
   "source": [
    "#5: Create an inner function to calculate the addition in the following way –\n",
    "#•\tCreate an outer function that will accept two parameters a and b\n",
    "#•\tCreate an inner function inside an outer function that will calculate the addition of a and b\n",
    "#•\tAt last, an outer function will add 5 into addition and return it.\n",
    "#   \n",
    "def outer_function(a, b): \n",
    "    def inner_function(x, y): \n",
    "        return x + y \n",
    "    return inner_function(a, b) + 5 \n",
    "print(\"Result from outer function:\", outer_function(3, 7)) \n",
    "# "
   ],
   "outputs": [],
   "execution_count": null
  },
  {
   "cell_type": "code",
   "id": "827a7ef8",
   "metadata": {},
   "source": [
    "#6: Create a recursive function and terminate it after some iteration. \n",
    "#   \n",
    "def recursive_function(n): \n",
    "    if n == 0: \n",
    "        return \n",
    "    print(\"Recursion count:\", n) \n",
    "    recursive_function(n - 1) \n",
    "recursive_function(5) \n",
    "# "
   ],
   "outputs": [],
   "execution_count": null
  },
  {
   "cell_type": "code",
   "id": "12e6f56e",
   "metadata": {},
   "source": [
    "#7: Assign a different name to function and call it through the new name.\n",
    "#   \n",
    "def original_function(): \n",
    "    print(\"This is the original function.\") \n",
    "new_name = original_function \n",
    "new_name() \n",
    "# "
   ],
   "outputs": [],
   "execution_count": null
  },
  {
   "cell_type": "code",
   "id": "92e3b533",
   "metadata": {},
   "source": [
    "#8: Generate a Python list of all the even numbers between 4 to 30 using a function.\n",
    "#   \n",
    "def generate_even_numbers(start, end): \n",
    "    return [x for x in range(start, end + 1) if x % 2 == 0] \n",
    "print(\"Even numbers:\", generate_even_numbers(4, 30))\n",
    "# "
   ],
   "outputs": [],
   "execution_count": null
  },
  {
   "cell_type": "code",
   "id": "a37f3b6d",
   "metadata": {},
   "source": [
    "#9: Find the largest item from a given list using a function.\n",
    "#   \n",
    "def find_largest(lst): \n",
    "    largest = lst[0] \n",
    "    for item in lst: \n",
    "            if item > largest: \n",
    "                largest = item \n",
    "    return largest \n",
    "print(\"Largest item:\", find_largest([13, 5, 1, 21, 15])) \n",
    "# "
   ],
   "outputs": [],
   "execution_count": null
  },
  {
   "cell_type": "code",
   "id": "571f5f4f",
   "metadata": {
    "lines_to_next_cell": 2
   },
   "source": [
    "#10. Write a Python function to find the maximum of three numbers.\n",
    "#   \n",
    "def max_of_three(a, b, c): \n",
    "    return max(a, b, c) \n",
    "print(\"Maximum of three:\", max_of_three(3, 15, 21)) \n",
    "# "
   ],
   "outputs": [],
   "execution_count": null
  },
  {
   "cell_type": "code",
   "id": "c74db375",
   "metadata": {},
   "source": [
    "#11. Write a Python function to sum all the numbers in a list.\n",
    "#   \n",
    "def sum_list(lst): \n",
    "    return sum(lst) \n",
    "print(\"Sum of list:\", sum_list([2, 3, 5, 7, 9, 11])) \n",
    "# "
   ],
   "outputs": [],
   "execution_count": null
  },
  {
   "cell_type": "code",
   "id": "1cdaffef",
   "metadata": {},
   "source": [
    "#12. Write a Python function to multiply all the numbers in a list.\n",
    "#   \n",
    "def multiply_list(lst): \n",
    "    result = 1 \n",
    "    for num in lst: \n",
    "        result *= num \n",
    "    return result \n",
    "print(\"Product of list:\", multiply_list([2, 3, 5, 7, 9, 11])) \n",
    "# "
   ],
   "outputs": [],
   "execution_count": null
  },
  {
   "cell_type": "code",
   "id": "7f0d5775",
   "metadata": {},
   "source": [
    "#13. Write a Python function to calculate the factorial of a number (a non-negative integer). The function accepts the number as an argument.\n",
    "#   \n",
    "def factorial(n): \n",
    "    if n == 0 or n == 1: \n",
    "        return 1 \n",
    "    return n * factorial(n - 1) \n",
    "print(\"Factorial of 6:\", factorial(6)) \n",
    "# "
   ],
   "outputs": [],
   "execution_count": null
  },
  {
   "cell_type": "code",
   "id": "56e75d10",
   "metadata": {},
   "source": [
    "#14. Write a Python function to check whether a number falls within a given range.\n",
    "#   \n",
    "def in_range(num, start, end): \n",
    "    return start <= num <= end \n",
    "print(\"Is 10 in range 5-15?\", in_range(10, 5, 15)) \n",
    "# "
   ],
   "outputs": [],
   "execution_count": null
  },
  {
   "cell_type": "code",
   "id": "9f78a42e",
   "metadata": {},
   "source": [
    "#15. Write a Python program to detect the number of local variables declared in a function.\n",
    "#   \n",
    "def count_locals(): \n",
    "    x = 10 \n",
    "    y = 20 \n",
    "    z = 30 \n",
    "    return locals() \n",
    "print(\"Number of local variables:\", len(count_locals())) \n",
    "# "
   ],
   "outputs": [],
   "execution_count": null
  },
  {
   "cell_type": "markdown",
   "id": "ba4fe432",
   "metadata": {},
   "source": [
    "16. Write a Python program to access a function inside a function.\n",
    "  "
   ]
  },
  {
   "cell_type": "code",
   "id": "54dc70b5",
   "metadata": {},
   "source": [
    "def outer():\n",
    "    def inner():\n",
    "        return \"Inner function executed\"\n",
    "    return inner()\n",
    "print(outer())\n",
    "# "
   ],
   "outputs": [],
   "execution_count": null
  },
  {
   "cell_type": "code",
   "id": "bfc45147",
   "metadata": {},
   "source": [],
   "outputs": [],
   "execution_count": null
  },
  {
   "cell_type": "code",
   "id": "eb2d0811",
   "metadata": {},
   "source": [],
   "outputs": [],
   "execution_count": null
  },
  {
   "cell_type": "code",
   "id": "60fef9f3",
   "metadata": {},
   "source": [],
   "outputs": [],
   "execution_count": null
  },
  {
   "cell_type": "code",
   "id": "215552b5",
   "metadata": {
    "lines_to_next_cell": 2
   },
   "source": [],
   "outputs": [],
   "execution_count": null
  },
  {
   "cell_type": "markdown",
   "id": "240cf71b",
   "metadata": {},
   "source": [
    "PYTHON PROGRAMMING LAB [MICS191]\n",
    "PCA-2 Assignment"
   ]
  },
  {
   "cell_type": "markdown",
   "id": "69d0dd76",
   "metadata": {},
   "source": [
    "DWAIPAYAN MOJUMDER\n",
    "STUDENT ID: 24234040007"
   ]
  },
  {
   "cell_type": "code",
   "id": "7a5a8111",
   "metadata": {},
   "source": [],
   "outputs": [],
   "execution_count": null
  },
  {
   "cell_type": "code",
   "id": "13111642",
   "metadata": {},
   "source": [],
   "outputs": [],
   "execution_count": null
  },
  {
   "cell_type": "markdown",
   "id": "7568695a",
   "metadata": {},
   "source": [
    "1.Write a Python program to create a person class. Include attributes like name, country and date of birth. Implement a method to determine the person’s age."
   ]
  },
  {
   "cell_type": "code",
   "id": "8cd37d8f",
   "metadata": {
    "lines_to_next_cell": 1
   },
   "source": [
    "from datetime import datetime"
   ],
   "outputs": [],
   "execution_count": null
  },
  {
   "cell_type": "code",
   "id": "8113fd7b",
   "metadata": {
    "lines_to_next_cell": 1
   },
   "source": [
    "class Person:\n",
    "    def __init__(self, name, country, date_of_birth):\n",
    "        self.name = name\n",
    "        self.country = country\n",
    "        self.date_of_birth = datetime.strptime(date_of_birth, '%Y-%m-%d')\n",
    "    \n",
    "    def get_age(self):\n",
    "        today = datetime.today()\n",
    "        age = today.year - self.date_of_birth.year\n",
    "        if (today.month, today.day) < (self.date_of_birth.month, self.date_of_birth.day):\n",
    "            age -= 1\n",
    "        return age"
   ],
   "outputs": [],
   "execution_count": null
  },
  {
   "cell_type": "code",
   "id": "9799a940",
   "metadata": {},
   "source": [
    "# Example usage\n",
    "person = Person(\"John Doe\", \"USA\", \"1990-05-15\")\n",
    "print(f\"{person.name} is {person.get_age()} years old.\")"
   ],
   "outputs": [],
   "execution_count": null
  },
  {
   "cell_type": "markdown",
   "id": "1340c365",
   "metadata": {},
   "source": [
    "2. Write a Python program to create a class representing a bank. Include methods for managing customer accounts and transactions -"
   ]
  },
  {
   "cell_type": "markdown",
   "id": "467d95d7",
   "metadata": {},
   "source": [
    "- create_account\n",
    "- make_deposit\n",
    "- make_withdrawal\n",
    "- check_balance"
   ]
  },
  {
   "cell_type": "code",
   "id": "b91c19b9",
   "metadata": {
    "lines_to_next_cell": 1
   },
   "source": [
    "class Bank:\n",
    "    def __init__(self):\n",
    "        \"\"\"\n",
    "        Initializes the Bank with an empty dictionary of accounts.\n",
    "        Each account is represented as a dictionary with keys 'name', 'balance', and 'country'.\n",
    "        \"\"\"\n",
    "        self.accounts = {}\n",
    "\n",
    "    def create_account(self, account_number, name, initial_deposit, country):\n",
    "        \"\"\"\n",
    "        Creates a new account with the specified account number.\n",
    "\n",
    "        :param account_number: Unique account number (str)\n",
    "        :param name: Name of the account holder (str)\n",
    "        :param initial_deposit: Initial deposit amount (float)\n",
    "        :param country: Country of the account holder (str)\n",
    "        \"\"\"\n",
    "        if account_number in self.accounts:\n",
    "            print(\"Account already exists.\")\n",
    "        else:\n",
    "            self.accounts[account_number] = {\n",
    "                'name': name,\n",
    "                'balance': initial_deposit,\n",
    "                'country': country\n",
    "            }\n",
    "            print(f\"Account created successfully for {name}.\")\n",
    "\n",
    "    def make_deposit(self, account_number, amount):\n",
    "        \"\"\"\n",
    "        Deposits an amount into the specified account.\n",
    "\n",
    "        :param account_number: Account number (str)\n",
    "        :param amount: Amount to deposit (float)\n",
    "        \"\"\"\n",
    "        if account_number in self.accounts:\n",
    "            if amount > 0:\n",
    "                self.accounts[account_number]['balance'] += amount\n",
    "                print(f\"Deposited ${amount:.2f} into account {account_number}. New balance: ${self.accounts[account_number]['balance']:.2f}\")\n",
    "            else:\n",
    "                print(\"Deposit amount must be positive.\")\n",
    "        else:\n",
    "            print(\"Account not found.\")\n",
    "\n",
    "    def make_withdrawal(self, account_number, amount):\n",
    "        \"\"\"\n",
    "        Withdraws an amount from the specified account if sufficient funds are available.\n",
    "\n",
    "        :param account_number: Account number (str)\n",
    "        :param amount: Amount to withdraw (float)\n",
    "        \"\"\"\n",
    "        if account_number in self.accounts:\n",
    "            if amount > 0:\n",
    "                if self.accounts[account_number]['balance'] >= amount:\n",
    "                    self.accounts[account_number]['balance'] -= amount\n",
    "                    print(f\"Withdrew ${amount:.2f} from account {account_number}. New balance: ${self.accounts[account_number]['balance']:.2f}\")\n",
    "                else:\n",
    "                    print(\"Insufficient funds.\")\n",
    "            else:\n",
    "                print(\"Withdrawal amount must be positive.\")\n",
    "        else:\n",
    "            print(\"Account not found.\")\n",
    "\n",
    "    def check_balance(self, account_number):\n",
    "        \"\"\"\n",
    "        Checks and prints the balance of the specified account.\n",
    "\n",
    "        :param account_number: Account number (str)\n",
    "        \"\"\"\n",
    "        if account_number in self.accounts:\n",
    "            balance = self.accounts[account_number]['balance']\n",
    "            print(f\"Account {account_number} balance: ${balance:.2f}\")\n",
    "            return balance\n",
    "        else:\n",
    "            print(\"Account not found.\")\n",
    "            return None"
   ],
   "outputs": [],
   "execution_count": null
  },
  {
   "cell_type": "code",
   "id": "18cdf620",
   "metadata": {},
   "source": [
    "# Example usage\n",
    "if __name__ == \"__main__\":\n",
    "    bank = Bank()\n",
    "\n",
    "    # Create accounts\n",
    "    bank.create_account(\"12345\", \"John Doe\", 500.00, \"USA\")\n",
    "    bank.create_account(\"67890\", \"Jane Smith\", 1000.00, \"Canada\")\n",
    "\n",
    "    # Perform transactions\n",
    "    bank.make_deposit(\"12345\", 200.00)\n",
    "    bank.make_withdrawal(\"12345\", 100.00)\n",
    "    bank.check_balance(\"12345\")\n",
    "\n",
    "    bank.make_withdrawal(\"67890\", 1500.00)  # Attempt to overdraw\n",
    "    bank.check_balance(\"67890\")"
   ],
   "outputs": [],
   "execution_count": null
  },
  {
   "cell_type": "markdown",
   "id": "5ce81399",
   "metadata": {},
   "source": [
    "3. Write a Python program to create a class representing a shopping cart. Include methods for adding and removing items, and calculating the total price."
   ]
  },
  {
   "cell_type": "code",
   "id": "acc45e67",
   "metadata": {
    "lines_to_next_cell": 1
   },
   "source": [
    "class ShoppingCart:\n",
    "    def __init__(self):\n",
    "        \"\"\"\n",
    "        Initializes an empty shopping cart.\n",
    "        Each item is stored as a dictionary with keys 'name', 'price', and 'quantity'.\n",
    "        \"\"\"\n",
    "        self.cart = []\n",
    "\n",
    "    def add_item(self, name, price, quantity=1):\n",
    "        \"\"\"\n",
    "        Adds an item to the shopping cart.\n",
    "\n",
    "        :param name: Name of the item (str)\n",
    "        :param price: Price of the item (float)\n",
    "        :param quantity: Quantity of the item (int, default is 1)\n",
    "        \"\"\"\n",
    "        if price < 0 or quantity < 1:\n",
    "            print(\"Price must be non-negative and quantity must be at least 1.\")\n",
    "            return\n",
    "\n",
    "        for item in self.cart:\n",
    "            if item['name'] == name:\n",
    "                item['quantity'] += quantity\n",
    "                print(f\"Updated {name} quantity to {item['quantity']}.\")\n",
    "                return\n",
    "\n",
    "        self.cart.append({'name': name, 'price': price, 'quantity': quantity})\n",
    "        print(f\"Added {name} to the cart.\")\n",
    "\n",
    "    def remove_item(self, name, quantity=1):\n",
    "        \"\"\"\n",
    "        Removes a specified quantity of an item from the shopping cart.\n",
    "\n",
    "        :param name: Name of the item (str)\n",
    "        :param quantity: Quantity to remove (int, default is 1)\n",
    "        \"\"\"\n",
    "        for item in self.cart:\n",
    "            if item['name'] == name:\n",
    "                if quantity >= item['quantity']:\n",
    "                    self.cart.remove(item)\n",
    "                    print(f\"Removed {name} from the cart.\")\n",
    "                else:\n",
    "                    item['quantity'] -= quantity\n",
    "                    print(f\"Decreased {name} quantity to {item['quantity']}.\")\n",
    "                return\n",
    "\n",
    "        print(f\"Item {name} not found in the cart.\")\n",
    "\n",
    "    def calculate_total(self):\n",
    "        \"\"\"\n",
    "        Calculates and returns the total price of all items in the shopping cart.\n",
    "\n",
    "        :return: Total price (float)\n",
    "        \"\"\"\n",
    "        total = sum(item['price'] * item['quantity'] for item in self.cart)\n",
    "        print(f\"Total price: ${total:.2f}\")\n",
    "        return total\n",
    "\n",
    "    def __str__(self):\n",
    "        \"\"\"\n",
    "        Returns a string representation of the shopping cart.\n",
    "\n",
    "        :return: A formatted string of all items in the cart.\n",
    "        \"\"\"\n",
    "        if not self.cart:\n",
    "            return \"Your cart is empty.\"\n",
    "\n",
    "        cart_contents = [\n",
    "            f\"{item['name']} - ${item['price']:.2f} x {item['quantity']}\"\n",
    "            for item in self.cart\n",
    "        ]\n",
    "        return \"\\n\".join(cart_contents)"
   ],
   "outputs": [],
   "execution_count": null
  },
  {
   "cell_type": "code",
   "id": "094f32b9",
   "metadata": {},
   "source": [
    "# Example usage\n",
    "if __name__ == \"__main__\":\n",
    "    cart = ShoppingCart()\n",
    "\n",
    "    # Add items\n",
    "    cart.add_item(\"Apple\", 0.99, 3)\n",
    "    cart.add_item(\"Banana\", 0.59, 2)\n",
    "    cart.add_item(\"Orange\", 1.29, 1)\n",
    "\n",
    "    # View cart\n",
    "    print(\"\\nCart contents:\")\n",
    "    print(cart)\n",
    "\n",
    "    # Remove items\n",
    "    cart.remove_item(\"Apple\", 2)\n",
    "    cart.remove_item(\"Orange\")\n",
    "\n",
    "    # View cart again\n",
    "    print(\"\\nCart contents after updates:\")\n",
    "    print(cart)\n",
    "\n",
    "    # Calculate total price\n",
    "    cart.calculate_total()"
   ],
   "outputs": [],
   "execution_count": null
  },
  {
   "cell_type": "markdown",
   "id": "3aa2fc29",
   "metadata": {},
   "source": [
    "4. Write a Python program to create a calculator class. Include methods for basic arithmetic operations."
   ]
  },
  {
   "cell_type": "code",
   "id": "18bb663b",
   "metadata": {
    "lines_to_next_cell": 1
   },
   "source": [
    "class Calculator:\n",
    "    def add(self, a, b):\n",
    "        \"\"\"\n",
    "        Returns the sum of two numbers.\n",
    "\n",
    "        :param a: First number (float or int)\n",
    "        :param b: Second number (float or int)\n",
    "        :return: Sum of a and b (float or int)\n",
    "        \"\"\"\n",
    "        return a + b\n",
    "\n",
    "    def subtract(self, a, b):\n",
    "        \"\"\"\n",
    "        Returns the difference between two numbers.\n",
    "\n",
    "        :param a: First number (float or int)\n",
    "        :param b: Second number (float or int)\n",
    "        :return: Difference of a and b (float or int)\n",
    "        \"\"\"\n",
    "        return a - b\n",
    "\n",
    "    def multiply(self, a, b):\n",
    "        \"\"\"\n",
    "        Returns the product of two numbers.\n",
    "\n",
    "        :param a: First number (float or int)\n",
    "        :param b: Second number (float or int)\n",
    "        :return: Product of a and b (float or int)\n",
    "        \"\"\"\n",
    "        return a * b\n",
    "\n",
    "    def divide(self, a, b):\n",
    "        \"\"\"\n",
    "        Returns the quotient of two numbers. Raises an error if division by zero is attempted.\n",
    "\n",
    "        :param a: Numerator (float or int)\n",
    "        :param b: Denominator (float or int)\n",
    "        :return: Quotient of a and b (float)\n",
    "        \"\"\"\n",
    "        if b == 0:\n",
    "            raise ValueError(\"Division by zero is not allowed.\")\n",
    "        return a / b"
   ],
   "outputs": [],
   "execution_count": null
  },
  {
   "cell_type": "code",
   "id": "3f141dd6",
   "metadata": {},
   "source": [
    "# Example usage\n",
    "if __name__ == \"__main__\":\n",
    "    calc = Calculator()\n",
    "\n",
    "    # Perform calculations\n",
    "    print(\"Addition: 5 + 3 =\", calc.add(5, 3))\n",
    "    print(\"Subtraction: 5 - 3 =\", calc.subtract(5, 3))\n",
    "    print(\"Multiplication: 5 * 3 =\", calc.multiply(5, 3))\n",
    "    try:\n",
    "        print(\"Division: 5 / 3 =\", calc.divide(5, 3))\n",
    "        print(\"Division: 5 / 0 =\", calc.divide(5, 0))\n",
    "    except ValueError as e:\n",
    "        print(e)"
   ],
   "outputs": [],
   "execution_count": null
  },
  {
   "cell_type": "code",
   "id": "5227a026",
   "metadata": {
    "lines_to_next_cell": 2
   },
   "source": [],
   "outputs": [],
   "execution_count": null
  }
 ],
 "metadata": {
  "jupytext": {
   "cell_metadata_filter": "-all",
   "main_language": "python",
   "notebook_metadata_filter": "-all"
  }
 },
 "nbformat": 4,
 "nbformat_minor": 5
}
