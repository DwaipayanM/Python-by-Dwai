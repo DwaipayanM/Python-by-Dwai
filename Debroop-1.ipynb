{
 "cells": [
  {
   "cell_type": "code",
   "id": "initial_id",
   "metadata": {
    "collapsed": true,
    "ExecuteTime": {
     "end_time": "2025-06-14T15:03:51.238376Z",
     "start_time": "2025-06-14T15:03:51.236221Z"
    }
   },
   "source": [
    ""
   ],
   "outputs": [],
   "execution_count": null
  },
  {
   "metadata": {
    "ExecuteTime": {
     "end_time": "2025-06-14T15:04:21.620474Z",
     "start_time": "2025-06-14T15:04:21.614607Z"
    }
   },
   "cell_type": "code",
   "source": [
    "a=10\n",
    "b=25\n",
    "c='My name is Debroop'\n",
    "print (a+b)\n",
    "print(c)\n",
    "D=\"5-\"\n",
    "print (D)\n",
    "print (D+c)\n",
    "print (type(a))\n",
    "#print (int(D))\n",
    "print (str(a ) +\"-\" + str(b ) +\" \" + str(c))\n",
    "print (\"A minus B is: \", a-b)\n",
    "#a=25\n",
    "#b=5\n",
    "#print (a+b)"
   ],
   "id": "244c8c5cc87e83b6",
   "outputs": [
    {
     "name": "stdout",
     "output_type": "stream",
     "text": [
      "35\n",
      "My name is Debroop\n",
      "5-\n",
      "5-My name is Debroop\n",
      "<class 'int'>\n",
      "10-25 My name is Debroop\n",
      "A minus B is:  -15\n"
     ]
    }
   ],
   "execution_count": 16
  },
  {
   "metadata": {
    "ExecuteTime": {
     "end_time": "2025-06-14T15:03:51.351316Z",
     "start_time": "2025-06-14T15:03:51.345637Z"
    }
   },
   "cell_type": "code",
   "source": [
    "a=25\n",
    "b=5\n",
    "print (a+b)"
   ],
   "id": "e3909aacaa95aac4",
   "outputs": [
    {
     "name": "stdout",
     "output_type": "stream",
     "text": [
      "30\n"
     ]
    }
   ],
   "execution_count": 15
  },
  {
   "metadata": {
    "ExecuteTime": {
     "end_time": "2025-06-14T15:18:16.398982Z",
     "start_time": "2025-06-14T15:18:11.456074Z"
    }
   },
   "cell_type": "code",
   "source": [
    "var1 = (input())\n",
    "print (var1)\n",
    "print(type(var1))\n"
   ],
   "id": "47ebb6a06453be6c",
   "outputs": [
    {
     "name": "stdout",
     "output_type": "stream",
     "text": [
      "a+b\n",
      "<class 'str'>\n"
     ]
    }
   ],
   "execution_count": 30
  },
  {
   "metadata": {
    "ExecuteTime": {
     "end_time": "2025-06-14T15:24:31.496513Z",
     "start_time": "2025-06-14T15:24:01.685523Z"
    }
   },
   "cell_type": "code",
   "source": [
    "# Define a function to determine the winner\n",
    "def determine_winner(cards, names):\n",
    "    card_values = {'2': 2, '3': 3, '4': 4, '5': 5, '6': 6, '7': 7,\n",
    "                   '8': 8, '9': 9, '10': 10, 'J': 11, 'Q': 12, 'K': 13, 'A': 14}\n",
    "    max_value = max(card_values[card] for card in cards)\n",
    "    winners = [names[i] for i, card in enumerate(cards) if card_values[card] == max_value]\n",
    "    if len(winners) == 1:\n",
    "        return f\"{winners[0]} wins!\"\n",
    "    else:\n",
    "        return \"It's a tie between: \" + \", \".join(winners)\n",
    "\n",
    "# Get player names and cards\n",
    "player_names = []\n",
    "player_cards = []\n",
    "for i in range(3):\n",
    "    name = input(f\"Enter the name of Player {i + 1}: \")\n",
    "    player_names.append(name)\n",
    "    card = input(f\"Enter the card drawn by {name} (2-10, J, Q, K, A): \").upper()\n",
    "    player_cards.append(card)\n",
    "\n",
    "# Determine the winner\n",
    "result = determine_winner(player_cards, player_names)\n",
    "print(result)\n"
   ],
   "id": "e19a54b4e3ddae63",
   "outputs": [
    {
     "name": "stdout",
     "output_type": "stream",
     "text": [
      "Dwai wins!\n"
     ]
    }
   ],
   "execution_count": 34
  },
  {
   "metadata": {
    "ExecuteTime": {
     "end_time": "2025-06-14T15:28:22.254588Z",
     "start_time": "2025-06-14T15:26:15.806930Z"
    }
   },
   "cell_type": "code",
   "source": "    pip install pygame",
   "id": "820cd0d5a7405d09",
   "outputs": [
    {
     "name": "stdout",
     "output_type": "stream",
     "text": [
      "Collecting pygame\n",
      "  Downloading pygame-2.6.1-cp313-cp313-win_amd64.whl.metadata (13 kB)\n",
      "Downloading pygame-2.6.1-cp313-cp313-win_amd64.whl (10.6 MB)\n",
      "   ---------------------------------------- 0.0/10.6 MB ? eta -:--:--\n",
      "    --------------------------------------- 0.3/10.6 MB ? eta -:--:--\n",
      "   ------------- -------------------------- 3.7/10.6 MB 11.9 MB/s eta 0:00:01\n",
      "   -------------------------- ------------- 7.1/10.6 MB 14.1 MB/s eta 0:00:01\n",
      "   ---------------------------------------  10.5/10.6 MB 14.8 MB/s eta 0:00:01\n",
      "   ---------------------------------------- 10.6/10.6 MB 14.3 MB/s eta 0:00:00\n",
      "Installing collected packages: pygame\n",
      "Successfully installed pygame-2.6.1\n",
      "Note: you may need to restart the kernel to use updated packages.\n"
     ]
    },
    {
     "name": "stderr",
     "output_type": "stream",
     "text": [
      "\n",
      "[notice] A new release of pip is available: 25.0.1 -> 25.1.1\n",
      "[notice] To update, run: python.exe -m pip install --upgrade pip\n"
     ]
    }
   ],
   "execution_count": 35
  },
  {
   "metadata": {
    "ExecuteTime": {
     "end_time": "2025-06-14T15:56:34.377598Z",
     "start_time": "2025-06-14T15:56:04.975764Z"
    }
   },
   "cell_type": "code",
   "source": [
    "\n",
    "import pygame\n",
    "import random\n",
    "\n",
    "# Initialize Pygame\n",
    "pygame.init()\n",
    "\n",
    "# Screen dimensions\n",
    "SCREEN_WIDTH = 800\n",
    "SCREEN_HEIGHT = 600\n",
    "\n",
    "# Colors\n",
    "WHITE = (255, 255, 255)\n",
    "BLACK = (0, 0, 0)\n",
    "RED = (255, 0, 0)\n",
    "GREEN = (0, 255, 0)\n",
    "BLUE = (0, 0, 255)\n",
    "\n",
    "# Player dimensions\n",
    "PLAYER_WIDTH = 50\n",
    "PLAYER_HEIGHT = 50\n",
    "\n",
    "# Coin dimensions\n",
    "COIN_WIDTH = 20\n",
    "COIN_HEIGHT = 20\n",
    "\n",
    "# Levels\n",
    "LEVELS = [\n",
    "    {\"num_coins\": 5, \"coin_speed\": 2},\n",
    "    {\"num_coins\": 10, \"coin_speed\": 3},\n",
    "    {\"num_coins\": 15, \"coin_speed\": 4},\n",
    "]\n",
    "\n",
    "# Set up the display\n",
    "screen = pygame.display.set_mode((SCREEN_WIDTH, SCREEN_HEIGHT))\n",
    "pygame.display.set_caption(\"Mario Game\")\n",
    "\n",
    "# Load images\n",
    "player1_image = pygame.Surface((PLAYER_WIDTH, PLAYER_HEIGHT))\n",
    "player1_image.fill(RED)\n",
    "player2_image = pygame.Surface((PLAYER_WIDTH, PLAYER_HEIGHT))\n",
    "player2_image.fill(BLUE)\n",
    "coin_image = pygame.Surface((COIN_WIDTH, COIN_HEIGHT))\n",
    "coin_image.fill(GREEN)\n",
    "\n",
    "# Player class\n",
    "class Player(pygame.sprite.Sprite):\n",
    "    def __init__(self, x, y, image):\n",
    "        super().__init__()\n",
    "        self.image = image\n",
    "        self.rect = self.image.get_rect()\n",
    "        self.rect.x = x\n",
    "        self.rect.y = y\n",
    "        self.speed_x = 0\n",
    "        self.speed_y = 0\n",
    "\n",
    "    def update(self):\n",
    "        self.rect.x += self.speed_x\n",
    "        self.rect.y += self.speed_y\n",
    "\n",
    "        # Keep player within screen bounds\n",
    "        if self.rect.x < 0:\n",
    "            self.rect.x = 0\n",
    "        if self.rect.x > SCREEN_WIDTH - PLAYER_WIDTH:\n",
    "            self.rect.x = SCREEN_WIDTH - PLAYER_WIDTH\n",
    "        if self.rect.y < 0:\n",
    "            self.rect.y = 0\n",
    "        if self.rect.y > SCREEN_HEIGHT - PLAYER_HEIGHT:\n",
    "            self.rect.y = SCREEN_HEIGHT - PLAYER_HEIGHT\n",
    "\n",
    "# Coin class\n",
    "class Coin(pygame.sprite.Sprite):\n",
    "    def __init__(self, x, y, speed):\n",
    "        super().__init__()\n",
    "        self.image = coin_image\n",
    "        self.rect = self.image.get_rect()\n",
    "        self.rect.x = x\n",
    "        self.rect.y = y\n",
    "        self.speed = speed\n",
    "\n",
    "    def update(self):\n",
    "        self.rect.y += self.speed\n",
    "        if self.rect.y > SCREEN_HEIGHT:\n",
    "            self.rect.y = -COIN_HEIGHT\n",
    "            self.rect.x = random.randint(0, SCREEN_WIDTH - COIN_WIDTH)\n",
    "\n",
    "# Function to create coins for a level\n",
    "def create_coins(level):\n",
    "    coins = pygame.sprite.Group()\n",
    "    for _ in range(level[\"num_coins\"]):\n",
    "        x = random.randint(0, SCREEN_WIDTH - COIN_WIDTH)\n",
    "        y = random.randint(-SCREEN_HEIGHT, 0)\n",
    "        coin = Coin(x, y, level[\"coin_speed\"])\n",
    "        coins.add(coin)\n",
    "    return coins\n",
    "\n",
    "# Main game loop\n",
    "def main():\n",
    "    clock = pygame.time.Clock()\n",
    "    running = True\n",
    "    level_index = 0\n",
    "    level = LEVELS[level_index]\n",
    "    coins = create_coins(level)\n",
    "\n",
    "    player1 = Player(100, SCREEN_HEIGHT - PLAYER_HEIGHT - 10, player1_image)\n",
    "    player2 = Player(200, SCREEN_HEIGHT - PLAYER_HEIGHT - 10, player2_image)\n",
    "    players = pygame.sprite.Group(player1, player2)\n",
    "\n",
    "    player1_score = 0\n",
    "    player2_score = 0\n",
    "\n",
    "    while running:\n",
    "        for event in pygame.event.get():\n",
    "            if event.type == pygame.QUIT:\n",
    "                running = False\n",
    "            elif event.type == pygame.KEYDOWN:\n",
    "                if event.key == pygame.K_LEFT:\n",
    "                    player1.speed_x = -5\n",
    "                elif event.key == pygame.K_RIGHT:\n",
    "                    player1.speed_x = 5\n",
    "                elif event.key == pygame.K_UP:\n",
    "                    player1.speed_y = -5\n",
    "                elif event.key == pygame.K_DOWN:\n",
    "                    player1.speed_y = 5\n",
    "                elif event.key == pygame.K_a:\n",
    "                    player2.speed_x = -5\n",
    "                elif event.key == pygame.K_d:\n",
    "                    player2.speed_x = 5\n",
    "                elif event.key == pygame.K_w:\n",
    "                    player2.speed_y = -5\n",
    "                elif event.key == pygame.K_s:\n",
    "                    player2.speed_y = 5\n",
    "            elif event.type == pygame.KEYUP:\n",
    "                if event.key in [pygame.K_LEFT, pygame.K_RIGHT]:\n",
    "                    player1.speed_x = 0\n",
    "                elif event.key in [pygame.K_UP, pygame.K_DOWN]:\n",
    "                    player1.speed_y = 0\n",
    "                elif event.key in [pygame.K_a, pygame.K_d]:\n",
    "                    player2.speed_x = 0\n",
    "                elif event.key in [pygame.K_w, pygame.K_s]:\n",
    "                    player2.speed_y = 0\n",
    "\n",
    "        players.update()\n",
    "        coins.update()\n",
    "\n",
    "        # Check for collisions\n",
    "        player1_hit_coins = pygame.sprite.spritecollide(player1, coins, True)\n",
    "        player2_hit_coins = pygame.sprite.spritecollide(player2, coins, True)\n",
    "\n",
    "        player1_score += len(player1_hit_coins)\n",
    "        player2_score += len(player2_hit_coins)\n",
    "\n",
    "        # Check if level is complete\n",
    "        if len(coins) == 0:\n",
    "            level_index += 1\n",
    "            if level_index >= len(LEVELS):\n",
    "                running = False\n",
    "            else:\n",
    "                level = LEVELS[level_index]\n",
    "                coins = create_coins(level)\n",
    "\n",
    "        # Draw everything\n",
    "        screen.fill(WHITE)\n",
    "        players.draw(screen)\n",
    "        coins.draw(screen)\n",
    "\n",
    "        # Display scores\n",
    "        font = pygame.font.Font(None, 36)\n",
    "        score_text = font.render(f\"Player 1: {player1_score}  Player 2: {player2_score}\", True, BLACK)\n",
    "        screen.blit(score_text, (10, 10))\n",
    "\n",
    "        pygame.display.flip()\n",
    "        clock.tick(60)\n",
    "\n",
    "    pygame.quit()\n",
    "\n",
    "if __name__ == \"__main__\":\n",
    "    main()\n"
   ],
   "id": "318abf9c04564d9f",
   "outputs": [
    {
     "name": "stderr",
     "output_type": "stream",
     "text": [
      "C:\\Debroop_Python\\.venv\\Lib\\site-packages\\pygame\\pkgdata.py:25: UserWarning: pkg_resources is deprecated as an API. See https://setuptools.pypa.io/en/latest/pkg_resources.html. The pkg_resources package is slated for removal as early as 2025-11-30. Refrain from using this package or pin to Setuptools<81.\n",
      "  from pkg_resources import resource_stream, resource_exists\n"
     ]
    },
    {
     "name": "stdout",
     "output_type": "stream",
     "text": [
      "pygame 2.6.1 (SDL 2.28.4, Python 3.13.3)\n",
      "Hello from the pygame community. https://www.pygame.org/contribute.html\n"
     ]
    }
   ],
   "execution_count": 1
  }
 ],
 "metadata": {
  "kernelspec": {
   "display_name": "Python 3",
   "language": "python",
   "name": "python3"
  },
  "language_info": {
   "codemirror_mode": {
    "name": "ipython",
    "version": 2
   },
   "file_extension": ".py",
   "mimetype": "text/x-python",
   "name": "python",
   "nbconvert_exporter": "python",
   "pygments_lexer": "ipython2",
   "version": "2.7.6"
  }
 },
 "nbformat": 4,
 "nbformat_minor": 5
}
